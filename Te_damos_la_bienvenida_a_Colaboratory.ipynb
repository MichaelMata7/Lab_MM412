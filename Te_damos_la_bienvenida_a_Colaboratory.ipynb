{
  "cells": [
    {
      "cell_type": "markdown",
      "metadata": {
        "id": "view-in-github",
        "colab_type": "text"
      },
      "source": [
        "<a href=\"https://colab.research.google.com/github/MichaelMata7/Lab_MM412/blob/main/Te_damos_la_bienvenida_a_Colaboratory.ipynb\" target=\"_parent\"><img src=\"https://colab.research.google.com/assets/colab-badge.svg\" alt=\"Open In Colab\"/></a>"
      ]
    },
    {
      "cell_type": "markdown",
      "source": [
        "# Ejemplos de Uso de Bibliotecas\n",
        "\n",
        "# math\n",
        "Se utiliza para realizar operaciones matemáticas básicas con números escalares.\n"
      ],
      "metadata": {
        "id": "G45IuJI7CoJy"
      }
    },
    {
      "cell_type": "code",
      "source": [
        "import math #Instruccion para llamar la biblioteca\n",
        "x=16 # Declaracion de Variable\n",
        "resultado=math.sqrt(x) #Funcion raiz cuadrada\n",
        "print(\"La raiz cuadrada de 16 es:\", resultado)"
      ],
      "metadata": {
        "id": "FdN8x1PEDkxb"
      },
      "execution_count": null,
      "outputs": []
    },
    {
      "cell_type": "markdown",
      "source": [
        "# numpy\n",
        "Se utiliza para trabajar con arreglos y realizar operaciones matemáticas de manera eficiente.\n"
      ],
      "metadata": {
        "id": "EsWaQZLiFuwx"
      }
    },
    {
      "cell_type": "code",
      "source": [
        "import numpy as np\n",
        "# Realizar uma operacion sobre el array\n",
        "squared ="
      ],
      "metadata": {
        "id": "-5pErkCrGp1r"
      },
      "execution_count": null,
      "outputs": []
    },
    {
      "cell_type": "markdown",
      "source": [
        "# matplotlib.pyplot\n",
        "Se utiliza para crear gráficos y visualizar datos.\n"
      ],
      "metadata": {
        "id": "WUSoCZnmHdEJ"
      }
    },
    {
      "cell_type": "code",
      "source": [
        "import matplotib.pylot as plt\n",
        "x = np.linspace(-10, 10, 100) # Generar 100 puntos de -10 a 10\n",
        "y= x**2 # Funcion cuadratica\n",
        "plt.plot(x, y)\n",
        "plt.title(\"Grafico de f(x) = x^2\")"
      ],
      "metadata": {
        "id": "27FadPh6HiLg"
      },
      "execution_count": null,
      "outputs": []
    },
    {
      "cell_type": "markdown",
      "source": [
        "# scipy\n",
        "Permite realizar optimización y encontrar raíces de funciones.\n"
      ],
      "metadata": {
        "id": "kl-S47KjI9S7"
      }
    },
    {
      "cell_type": "code",
      "source": [
        "import scipy"
      ],
      "metadata": {
        "id": "DKKLjdKbJD-i"
      },
      "execution_count": null,
      "outputs": []
    }
  ],
  "metadata": {
    "colab": {
      "name": "Te damos la bienvenida a Colaboratory",
      "toc_visible": true,
      "provenance": [],
      "include_colab_link": true
    },
    "kernelspec": {
      "display_name": "Python 3",
      "name": "python3"
    }
  },
  "nbformat": 4,
  "nbformat_minor": 0
}